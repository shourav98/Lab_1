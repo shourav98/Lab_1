{
 "cells": [
  {
   "cell_type": "code",
   "execution_count": 36,
   "metadata": {},
   "outputs": [],
   "source": [
    "dataset=[['1','2','4'],\n",
    "         ['2','3','5'],\n",
    "         ['1','2','3'],\n",
    "         ['2','5'],\n",
    "         ['5','6','7'],\n",
    "         ['4','6','7'],\n",
    "         ['1','5','6'],\n",
    "         ['2','4','6'],\n",
    "         ['1','5','7'],\n",
    "         ['1','6']\n",
    "        ]"
   ]
  },
  {
   "cell_type": "code",
   "execution_count": 37,
   "metadata": {},
   "outputs": [],
   "source": [
    "from mlxtend.preprocessing import TransactionEncoder"
   ]
  },
  {
   "cell_type": "code",
   "execution_count": 38,
   "metadata": {},
   "outputs": [],
   "source": [
    "encoder=TransactionEncoder().fit(dataset)"
   ]
  },
  {
   "cell_type": "code",
   "execution_count": 39,
   "metadata": {},
   "outputs": [],
   "source": [
    "onehot=encoder.transform(dataset)"
   ]
  },
  {
   "cell_type": "code",
   "execution_count": 40,
   "metadata": {},
   "outputs": [],
   "source": [
    "import pandas as pd"
   ]
  },
  {
   "cell_type": "code",
   "execution_count": 41,
   "metadata": {},
   "outputs": [],
   "source": [
    "onehot=pd.DataFrame(onehot,columns=encoder.columns_)"
   ]
  },
  {
   "cell_type": "code",
   "execution_count": 42,
   "metadata": {},
   "outputs": [
    {
     "data": {
      "text/html": [
       "<div>\n",
       "<style scoped>\n",
       "    .dataframe tbody tr th:only-of-type {\n",
       "        vertical-align: middle;\n",
       "    }\n",
       "\n",
       "    .dataframe tbody tr th {\n",
       "        vertical-align: top;\n",
       "    }\n",
       "\n",
       "    .dataframe thead th {\n",
       "        text-align: right;\n",
       "    }\n",
       "</style>\n",
       "<table border=\"1\" class=\"dataframe\">\n",
       "  <thead>\n",
       "    <tr style=\"text-align: right;\">\n",
       "      <th></th>\n",
       "      <th>1</th>\n",
       "      <th>2</th>\n",
       "      <th>3</th>\n",
       "      <th>4</th>\n",
       "      <th>5</th>\n",
       "      <th>6</th>\n",
       "      <th>7</th>\n",
       "    </tr>\n",
       "  </thead>\n",
       "  <tbody>\n",
       "    <tr>\n",
       "      <th>0</th>\n",
       "      <td>True</td>\n",
       "      <td>True</td>\n",
       "      <td>False</td>\n",
       "      <td>True</td>\n",
       "      <td>False</td>\n",
       "      <td>False</td>\n",
       "      <td>False</td>\n",
       "    </tr>\n",
       "    <tr>\n",
       "      <th>1</th>\n",
       "      <td>False</td>\n",
       "      <td>True</td>\n",
       "      <td>True</td>\n",
       "      <td>False</td>\n",
       "      <td>True</td>\n",
       "      <td>False</td>\n",
       "      <td>False</td>\n",
       "    </tr>\n",
       "    <tr>\n",
       "      <th>2</th>\n",
       "      <td>True</td>\n",
       "      <td>True</td>\n",
       "      <td>True</td>\n",
       "      <td>False</td>\n",
       "      <td>False</td>\n",
       "      <td>False</td>\n",
       "      <td>False</td>\n",
       "    </tr>\n",
       "    <tr>\n",
       "      <th>3</th>\n",
       "      <td>False</td>\n",
       "      <td>True</td>\n",
       "      <td>False</td>\n",
       "      <td>False</td>\n",
       "      <td>True</td>\n",
       "      <td>False</td>\n",
       "      <td>False</td>\n",
       "    </tr>\n",
       "    <tr>\n",
       "      <th>4</th>\n",
       "      <td>False</td>\n",
       "      <td>False</td>\n",
       "      <td>False</td>\n",
       "      <td>False</td>\n",
       "      <td>True</td>\n",
       "      <td>True</td>\n",
       "      <td>True</td>\n",
       "    </tr>\n",
       "    <tr>\n",
       "      <th>5</th>\n",
       "      <td>False</td>\n",
       "      <td>False</td>\n",
       "      <td>False</td>\n",
       "      <td>True</td>\n",
       "      <td>False</td>\n",
       "      <td>True</td>\n",
       "      <td>True</td>\n",
       "    </tr>\n",
       "    <tr>\n",
       "      <th>6</th>\n",
       "      <td>True</td>\n",
       "      <td>False</td>\n",
       "      <td>False</td>\n",
       "      <td>False</td>\n",
       "      <td>True</td>\n",
       "      <td>True</td>\n",
       "      <td>False</td>\n",
       "    </tr>\n",
       "    <tr>\n",
       "      <th>7</th>\n",
       "      <td>False</td>\n",
       "      <td>True</td>\n",
       "      <td>False</td>\n",
       "      <td>True</td>\n",
       "      <td>False</td>\n",
       "      <td>True</td>\n",
       "      <td>False</td>\n",
       "    </tr>\n",
       "    <tr>\n",
       "      <th>8</th>\n",
       "      <td>True</td>\n",
       "      <td>False</td>\n",
       "      <td>False</td>\n",
       "      <td>False</td>\n",
       "      <td>True</td>\n",
       "      <td>False</td>\n",
       "      <td>True</td>\n",
       "    </tr>\n",
       "    <tr>\n",
       "      <th>9</th>\n",
       "      <td>True</td>\n",
       "      <td>False</td>\n",
       "      <td>False</td>\n",
       "      <td>False</td>\n",
       "      <td>False</td>\n",
       "      <td>True</td>\n",
       "      <td>False</td>\n",
       "    </tr>\n",
       "  </tbody>\n",
       "</table>\n",
       "</div>"
      ],
      "text/plain": [
       "       1      2      3      4      5      6      7\n",
       "0   True   True  False   True  False  False  False\n",
       "1  False   True   True  False   True  False  False\n",
       "2   True   True   True  False  False  False  False\n",
       "3  False   True  False  False   True  False  False\n",
       "4  False  False  False  False   True   True   True\n",
       "5  False  False  False   True  False   True   True\n",
       "6   True  False  False  False   True   True  False\n",
       "7  False   True  False   True  False   True  False\n",
       "8   True  False  False  False   True  False   True\n",
       "9   True  False  False  False  False   True  False"
      ]
     },
     "execution_count": 42,
     "metadata": {},
     "output_type": "execute_result"
    }
   ],
   "source": [
    "onehot"
   ]
  },
  {
   "cell_type": "code",
   "execution_count": 43,
   "metadata": {},
   "outputs": [],
   "source": [
    "from mlxtend.frequent_patterns import apriori"
   ]
  },
  {
   "cell_type": "code",
   "execution_count": 44,
   "metadata": {},
   "outputs": [],
   "source": [
    "frequent_itemset=apriori(onehot,min_support=0.00000001,max_len=3,use_colnames=True)"
   ]
  },
  {
   "cell_type": "code",
   "execution_count": 45,
   "metadata": {},
   "outputs": [
    {
     "name": "stdout",
     "output_type": "stream",
     "text": [
      "    support   itemsets\n",
      "0       0.5        (1)\n",
      "1       0.5        (2)\n",
      "2       0.2        (3)\n",
      "3       0.3        (4)\n",
      "4       0.5        (5)\n",
      "5       0.5        (6)\n",
      "6       0.3        (7)\n",
      "7       0.2     (2, 1)\n",
      "8       0.1     (3, 1)\n",
      "9       0.1     (4, 1)\n",
      "10      0.2     (1, 5)\n",
      "11      0.2     (1, 6)\n",
      "12      0.1     (7, 1)\n",
      "13      0.2     (2, 3)\n",
      "14      0.2     (4, 2)\n",
      "15      0.2     (2, 5)\n",
      "16      0.1     (2, 6)\n",
      "17      0.1     (3, 5)\n",
      "18      0.2     (4, 6)\n",
      "19      0.1     (4, 7)\n",
      "20      0.2     (6, 5)\n",
      "21      0.2     (7, 5)\n",
      "22      0.2     (7, 6)\n",
      "23      0.1  (2, 3, 1)\n",
      "24      0.1  (4, 2, 1)\n",
      "25      0.1  (6, 1, 5)\n",
      "26      0.1  (7, 1, 5)\n",
      "27      0.1  (2, 3, 5)\n",
      "28      0.1  (4, 2, 6)\n",
      "29      0.1  (4, 7, 6)\n",
      "30      0.1  (7, 6, 5)\n"
     ]
    }
   ],
   "source": [
    "print(frequent_itemset)"
   ]
  },
  {
   "cell_type": "code",
   "execution_count": 46,
   "metadata": {},
   "outputs": [],
   "source": [
    "frequent_itemset=apriori(onehot,min_support=0.001,max_len=2,use_colnames=True)"
   ]
  },
  {
   "cell_type": "code",
   "execution_count": 47,
   "metadata": {},
   "outputs": [
    {
     "name": "stdout",
     "output_type": "stream",
     "text": [
      "    support itemsets\n",
      "0       0.5      (1)\n",
      "1       0.5      (2)\n",
      "2       0.2      (3)\n",
      "3       0.3      (4)\n",
      "4       0.5      (5)\n",
      "5       0.5      (6)\n",
      "6       0.3      (7)\n",
      "7       0.2   (2, 1)\n",
      "8       0.1   (3, 1)\n",
      "9       0.1   (4, 1)\n",
      "10      0.2   (1, 5)\n",
      "11      0.2   (1, 6)\n",
      "12      0.1   (7, 1)\n",
      "13      0.2   (2, 3)\n",
      "14      0.2   (4, 2)\n",
      "15      0.2   (2, 5)\n",
      "16      0.1   (2, 6)\n",
      "17      0.1   (3, 5)\n",
      "18      0.2   (4, 6)\n",
      "19      0.1   (4, 7)\n",
      "20      0.2   (6, 5)\n",
      "21      0.2   (7, 5)\n",
      "22      0.2   (7, 6)\n"
     ]
    }
   ],
   "source": [
    "print(frequent_itemset)"
   ]
  }
 ],
 "metadata": {
  "kernelspec": {
   "display_name": "Python 3",
   "language": "python",
   "name": "python3"
  },
  "language_info": {
   "codemirror_mode": {
    "name": "ipython",
    "version": 3
   },
   "file_extension": ".py",
   "mimetype": "text/x-python",
   "name": "python",
   "nbconvert_exporter": "python",
   "pygments_lexer": "ipython3",
   "version": "3.8.5"
  }
 },
 "nbformat": 4,
 "nbformat_minor": 4
}
